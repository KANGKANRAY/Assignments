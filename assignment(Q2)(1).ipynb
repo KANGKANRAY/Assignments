{
  "nbformat": 4,
  "nbformat_minor": 0,
  "metadata": {
    "colab": {
      "name": "assignment(Q2).ipynb",
      "provenance": []
    },
    "kernelspec": {
      "name": "python3",
      "display_name": "Python 3"
    }
  },
  "cells": [
    {
      "cell_type": "code",
      "metadata": {
        "id": "u_bWutqLbAR7",
        "colab_type": "code",
        "colab": {
          "base_uri": "https://localhost:8080/",
          "height": 221
        },
        "outputId": "13e7a59c-aa70-43ec-d16b-28a8589334f5"
      },
      "source": [
        "pip install PyPDF2"
      ],
      "execution_count": 4,
      "outputs": [
        {
          "output_type": "stream",
          "text": [
            "Collecting PyPDF2\n",
            "\u001b[?25l  Downloading https://files.pythonhosted.org/packages/b4/01/68fcc0d43daf4c6bdbc6b33cc3f77bda531c86b174cac56ef0ffdb96faab/PyPDF2-1.26.0.tar.gz (77kB)\n",
            "\r\u001b[K     |████▎                           | 10kB 22.7MB/s eta 0:00:01\r\u001b[K     |████████▌                       | 20kB 5.6MB/s eta 0:00:01\r\u001b[K     |████████████▊                   | 30kB 7.0MB/s eta 0:00:01\r\u001b[K     |█████████████████               | 40kB 7.6MB/s eta 0:00:01\r\u001b[K     |█████████████████████▏          | 51kB 6.3MB/s eta 0:00:01\r\u001b[K     |█████████████████████████▍      | 61kB 6.7MB/s eta 0:00:01\r\u001b[K     |█████████████████████████████▋  | 71kB 7.2MB/s eta 0:00:01\r\u001b[K     |████████████████████████████████| 81kB 4.4MB/s \n",
            "\u001b[?25hBuilding wheels for collected packages: PyPDF2\n",
            "  Building wheel for PyPDF2 (setup.py) ... \u001b[?25l\u001b[?25hdone\n",
            "  Created wheel for PyPDF2: filename=PyPDF2-1.26.0-cp36-none-any.whl size=61086 sha256=3b18579cf5d94864795b03762bf2debad554fe1a86ee237b9fe83c6911c36872\n",
            "  Stored in directory: /root/.cache/pip/wheels/53/84/19/35bc977c8bf5f0c23a8a011aa958acd4da4bbd7a229315c1b7\n",
            "Successfully built PyPDF2\n",
            "Installing collected packages: PyPDF2\n",
            "Successfully installed PyPDF2-1.26.0\n"
          ],
          "name": "stdout"
        }
      ]
    },
    {
      "cell_type": "code",
      "metadata": {
        "id": "Q8LJLmhGcBiX",
        "colab_type": "code",
        "colab": {}
      },
      "source": [
        "import PyPDF2 "
      ],
      "execution_count": 5,
      "outputs": []
    },
    {
      "cell_type": "code",
      "metadata": {
        "id": "nVGFkCtqcLTV",
        "colab_type": "code",
        "colab": {
          "base_uri": "https://localhost:8080/",
          "height": 35
        },
        "outputId": "49d58d82-fe88-48b1-8f59-de33a98b087f"
      },
      "source": [
        "Obj = open('/content/The_Living_World.pdf', 'rb') \n",
        "Reader = PyPDF2.PdfFileReader(Obj) "
      ],
      "execution_count": 7,
      "outputs": [
        {
          "output_type": "stream",
          "text": [
            "PdfReadWarning: Xref table not zero-indexed. ID numbers for objects will be corrected. [pdf.py:1736]\n"
          ],
          "name": "stderr"
        }
      ]
    },
    {
      "cell_type": "code",
      "metadata": {
        "id": "WP6p4MkIc3Yr",
        "colab_type": "code",
        "colab": {}
      },
      "source": [
        "num_pages = Reader.numPages\n",
        "count = 0\n",
        "text = \"\""
      ],
      "execution_count": 8,
      "outputs": []
    },
    {
      "cell_type": "code",
      "metadata": {
        "id": "vg4HdITEiVIi",
        "colab_type": "code",
        "colab": {}
      },
      "source": [
        "while count < num_pages:\n",
        "    Obj2 = Reader.getPage(count)\n",
        "    count +=1\n",
        "    text += Obj2.extractText()\n",
        "if text != \"\":\n",
        "   text = text\n",
        "#print(text)    "
      ],
      "execution_count": 13,
      "outputs": []
    },
    {
      "cell_type": "code",
      "metadata": {
        "id": "OXmyjUTFsbla",
        "colab_type": "code",
        "colab": {}
      },
      "source": [
        "file1 = open(\"output.txt\",\"w\")\n",
        "file1.write(text) \n",
        "file1.close() "
      ],
      "execution_count": 14,
      "outputs": []
    },
    {
      "cell_type": "code",
      "metadata": {
        "id": "m0oNzxRCtm0p",
        "colab_type": "code",
        "colab": {}
      },
      "source": [
        "\n",
        "\n",
        "import pandas as pd\n",
        "df = pd.read_fwf('/content/output.txt')\n",
        "df.to_csv('output2.csv')\n",
        "\n"
      ],
      "execution_count": 15,
      "outputs": []
    }
  ]
}